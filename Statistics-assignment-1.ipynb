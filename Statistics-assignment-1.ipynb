{
 "cells": [
  {
   "cell_type": "code",
   "execution_count": 0,
   "metadata": {
    "colab": {},
    "colab_type": "code",
    "id": "fwKwbkuXZtoO"
   },
   "outputs": [],
   "source": [
    "# Write your code in jupyter notebook and upload it to github and share the link for submission"
   ]
  },
  {
   "cell_type": "code",
   "execution_count": 1,
   "metadata": {},
   "outputs": [],
   "source": [
    "import numpy as np\n",
    "import matplotlib.pyplot as plt\n",
    "import pandas as pd\n",
    "import seaborn as sns"
   ]
  },
  {
   "cell_type": "code",
   "execution_count": 2,
   "metadata": {},
   "outputs": [],
   "source": [
    "matches = pd.read_csv('matches.csv')\n",
    "delivery = pd.read_csv('deliveries.csv')"
   ]
  },
  {
   "cell_type": "markdown",
   "metadata": {
    "colab_type": "text",
    "id": "vre5sNOcZ42y"
   },
   "source": [
    "**Question 1.** \n",
    "\n",
    "You have to create a function that receives a list of numbers like [23,14,13,56,78,98,12] and returns it's Interquartile range(IQR)\n",
    "\n",
    "Note: You have to code the logic from scratch"
   ]
  },
  {
   "cell_type": "code",
   "execution_count": 190,
   "metadata": {},
   "outputs": [],
   "source": [
    "def interquartile(arr):\n",
    "    arr.sort()\n",
    "    if(len(arr)%2!=0):\n",
    "        half = int(((len(arr)-1)/2)+1)\n",
    "        if half%2==0:\n",
    "            temp=int((half)/2)\n",
    "            q1=arr[temp-1]\n",
    "            q3=arr[(half+temp)-1]\n",
    "            final = int(q3-q1)\n",
    "            print(\"The interquartile range : \",final)\n",
    "        else:\n",
    "            temp=int((half)/2)\n",
    "            x=arr[temp]\n",
    "            y=arr[temp-1]\n",
    "            q1=(x+y)/2\n",
    "            x=arr[half+temp]\n",
    "            y=arr[(half+temp)-1]\n",
    "            q3=(x+y)/2\n",
    "            final=q3-q1\n",
    "            print(\"The interquartile range : \",final)\n",
    "    else:\n",
    "        half = int((len(arr)/2))\n",
    "        if half%2==0:\n",
    "            temp=int((half)/2)\n",
    "            x=arr[temp]\n",
    "            y=arr[temp-1]\n",
    "            q1=(x+y)/2\n",
    "            x=arr[half+temp]\n",
    "            y=arr[(half+temp)-1]\n",
    "            q3=(x+y)/2\n",
    "            final=q3-q1\n",
    "            print(\"The interquartile range : \",final)\n",
    "        else:\n",
    "            temp=int((half)/2)\n",
    "            q1=arr[temp]\n",
    "            q3=arr[(half+temp)]\n",
    "            final = int(q3-q1)\n",
    "            print(\"The interquartile range : \",final)"
   ]
  },
  {
   "cell_type": "code",
   "execution_count": 192,
   "metadata": {},
   "outputs": [
    {
     "name": "stdout",
     "output_type": "stream",
     "text": [
      "The interquartile range :  47.5\n"
     ]
    }
   ],
   "source": [
    "interquartile([12,56,49,57,12,36,94,75,12,25,55,94])"
   ]
  },
  {
   "cell_type": "markdown",
   "metadata": {
    "colab_type": "text",
    "id": "zhGgTofubucf"
   },
   "source": [
    "**Question 2:**\n",
    "\n",
    " Plot a histogram for total team scores for all IPL games.\n",
    "\n",
    "Note: Per match 2 teams will play hence total number scores would be = no. of matches * 2"
   ]
  },
  {
   "cell_type": "markdown",
   "metadata": {
    "colab_type": "text",
    "id": "LraNGEw4cCSI"
   },
   "source": [
    "**Question 3.**\n",
    "\n",
    " Find the skewness of bowler economy data where the bowler has bowled a minimum of 300 balls.\n",
    "\n",
    "Note : if you don't know about economy read this https://en.wikipedia.org/wiki/Economy_rate_(cricket)"
   ]
  },
  {
   "cell_type": "code",
   "execution_count": 195,
   "metadata": {},
   "outputs": [
    {
     "data": {
      "image/png": "[encoded data removed]",
      "text/plain": [
       "<Figure size 432x288 with 1 Axes>"
      ]
     },
     "metadata": {},
     "output_type": "display_data"
    }
   ],
   "source": [
    "plt.style.use('fivethirtyeight')\n",
    "balls=delivery.groupby('bowler').count()['ball']\n",
    "balls=balls[balls>300]\n",
    "overs=balls/6\n",
    "runs=delivery.groupby('bowler').sum()['batsman_runs']\n",
    "eco=runs/overs\n",
    "eco.dropna(inplace=True)\n",
    "eco.skew()\n",
    "sns.kdeplot(eco)\n",
    "plt.title('The skewness of bowler economy')\n",
    "plt.show()"
   ]
  },
  {
   "cell_type": "markdown",
   "metadata": {
    "colab_type": "text",
    "id": "rPh3aUBSdvjW"
   },
   "source": [
    "**Question 4:**\n",
    "\n",
    "Give three examples of negatively skewed data and 3 examples of positively skewed data"
   ]
  },
  {
   "cell_type": "markdown",
   "metadata": {
    "colab": {},
    "colab_type": "code",
    "id": "nggmjDQDaMKs"
   },
   "source": [
    "Positive Skewness\n",
    "\n",
    "1)Real life example of positively skewed distribution can be wealth of people in a Country. It has its natural boundary at zero. Also, there are fewer and fewer people with huge wealth.\n",
    "\n",
    "2)Another example of it are the marks obtained by students in a difficult exam. Again, it has natural boundary at zero and because of the difficulty of the exam there will be fewer and fewer students obtaining higher and higher marks.\n",
    "\n",
    "3)You can see that most of the graduates reported annual income between $31,000 and $70,000. You can see that there are very few graduates that make more than $70,000 who are MBA graduates. The yearly income for MBA graduates is positively skewed.\n",
    "\n",
    "Let's come to negatively skewed distribution.\n",
    "\n",
    "1)CGPA that we obtain in college follows negatively skewed distribution . It has an upper limit and almost every student manages to obtain a CGPA inbetween 7 and 10. There will be very few students getting lower and lower cgpa.\n",
    "\n",
    "2)Marks obtained by students in an easy exam can also be taken as an example of negatively skewed distribution using the similar logic.\n",
    "\n",
    "3)If we consider the price of branded cars it will folow a negative skewed distribution because mostly the price of the cars will be very high."
   ]
  },
  {
   "cell_type": "code",
   "execution_count": null,
   "metadata": {},
   "outputs": [],
   "source": []
  }
 ],
 "metadata": {
  "colab": {
   "authorship_tag": "ABX9TyM50CYqjICTUulR/W9kUpT6",
   "name": "Statistics-assignment-1.ipynb",
   "provenance": []
  },
  "kernelspec": {
   "display_name": "Python 3",
   "language": "python",
   "name": "python3"
  },
  "language_info": {
   "codemirror_mode": {
    "name": "ipython",
    "version": 3
   },
   "file_extension": ".py",
   "mimetype": "text/x-python",
   "name": "python",
   "nbconvert_exporter": "python",
   "pygments_lexer": "ipython3",
   "version": "3.7.4"
  }
 },
 "nbformat": 4,
 "nbformat_minor": 1
}
